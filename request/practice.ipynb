{
 "cells": [
  {
   "cell_type": "code",
   "execution_count": 15,
   "metadata": {
    "ExecuteTime": {
     "end_time": "2020-09-09T22:06:34.594633Z",
     "start_time": "2020-09-09T22:06:33.901532Z"
    }
   },
   "outputs": [],
   "source": [
    "# import packages \n",
    "import requests\n",
    "import pandas as pd"
   ]
  },
  {
   "cell_type": "markdown",
   "metadata": {},
   "source": [
    "# `需求`：\n",
    "爬取国家药品监督管理总局基于中华人民共和国化妆品生产许可证相关数据\n",
    "\n",
    "`url`：http://scxk.nmpa.gov.cn:81/xk/\n"
   ]
  },
  {
   "cell_type": "code",
   "execution_count": 9,
   "metadata": {
    "ExecuteTime": {
     "end_time": "2020-09-09T22:03:43.932132Z",
     "start_time": "2020-09-09T22:03:43.927497Z"
    }
   },
   "outputs": [],
   "source": [
    "url = 'http://scxk.nmpa.gov.cn:81/xk/'"
   ]
  },
  {
   "cell_type": "code",
   "execution_count": 11,
   "metadata": {
    "ExecuteTime": {
     "end_time": "2020-09-09T22:03:48.403608Z",
     "start_time": "2020-09-09T22:03:48.397599Z"
    }
   },
   "outputs": [],
   "source": [
    "# UA 伪装\n",
    "headers = {\n",
    "    'User-Agent':\n",
    "    'Mozilla/5.0 (Macintosh; Intel Mac OS X 10_15_6) AppleWebKit/605.1.15 (KHTML, like Gecko) Version/13.1.2 Safari/605.1.15'\n",
    "}"
   ]
  },
  {
   "cell_type": "code",
   "execution_count": 14,
   "metadata": {
    "ExecuteTime": {
     "end_time": "2020-09-09T22:04:58.954960Z",
     "start_time": "2020-09-09T22:04:58.391994Z"
    }
   },
   "outputs": [],
   "source": [
    "#写入邮件\n",
    "page_text = requests.get(url=url, headers=headers).text\n",
    "with open('./huazhuangpin.html','w',encoding= 'utf-8')as fp:\n",
    "    fp.write(page_text)"
   ]
  },
  {
   "cell_type": "markdown",
   "metadata": {},
   "source": [
    "---\n",
    "# 爬取第一页数据"
   ]
  },
  {
   "cell_type": "markdown",
   "metadata": {},
   "source": [
    "**动态加载数据**：\n",
    "首页中动态加载数据是通过ajax动态请求得到的\n",
    "    - 通过对详情页url的观察，url的域名都一样，只有携带的参数（id）不一样\n",
    "    - id值可以从首页对应的ajax请求的json串中获取\n",
    "    - 域名和id值拼接出一个完整的企业对应的url\n",
    "\n",
    "详情页数据也是通过ajax数据包动态加载出来的\n",
    "\n",
    "步骤：\n",
    "主页爬取id - 利用id爬取详情页数据"
   ]
  },
  {
   "cell_type": "markdown",
   "metadata": {
    "ExecuteTime": {
     "end_time": "2020-09-09T22:36:36.890049Z",
     "start_time": "2020-09-09T22:36:36.871257Z"
    }
   },
   "source": [
    "http://scxk.nmpa.gov.cn:81/xk/itownet/portal/dzpz.jsp?id=103caf86662d441d810dacc7dbb109a8\n",
    "http://scxk.nmpa.gov.cn:81/xk/itownet/portal/dzpz.jsp?id=ff83aff95c5541cdab5ca6e847514f88"
   ]
  },
  {
   "cell_type": "code",
   "execution_count": 86,
   "metadata": {
    "ExecuteTime": {
     "end_time": "2020-09-10T01:43:27.075189Z",
     "start_time": "2020-09-10T01:43:26.461769Z"
    }
   },
   "outputs": [],
   "source": [
    "# url\n",
    "url = 'http://scxk.nmpa.gov.cn:81/xk/itownet/portalAction.do?method=getXkzsList'\n",
    "\n",
    "# 参数封装\n",
    "data = {\n",
    "'on': 'true',\n",
    "'page': '1',\n",
    "'pageSize': '15',\n",
    "'productName':'',\n",
    "'conditionType': '1',\n",
    "'applyname':'',\n",
    "'applysn':''\n",
    "}\n",
    "\n",
    "# UA 伪装\n",
    "headers = {\n",
    "    'User-Agent':\n",
    "    'Mozilla/5.0 (Macintosh; Intel Mac OS X 10_15_6) AppleWebKit/605.1.15 (KHTML, like Gecko) Version/13.1.2 Safari/605.1.15'\n",
    "}\n",
    "\n",
    "# 发起post\n",
    "r = requests.post(url =url, headers = headers,data = data).json()"
   ]
  },
  {
   "cell_type": "code",
   "execution_count": 87,
   "metadata": {
    "ExecuteTime": {
     "end_time": "2020-09-10T01:43:27.282417Z",
     "start_time": "2020-09-10T01:43:27.276319Z"
    }
   },
   "outputs": [
    {
     "name": "stdout",
     "output_type": "stream",
     "text": [
      "---done---\n"
     ]
    }
   ],
   "source": [
    "id_list = []\n",
    "for dic in r['list']:\n",
    "    id_list.append(dic['ID'])\n",
    "print('---done---')"
   ]
  },
  {
   "cell_type": "code",
   "execution_count": 88,
   "metadata": {
    "ExecuteTime": {
     "end_time": "2020-09-10T01:43:40.215614Z",
     "start_time": "2020-09-10T01:43:29.476691Z"
    }
   },
   "outputs": [
    {
     "name": "stdout",
     "output_type": "stream",
     "text": [
      "----done---\n"
     ]
    }
   ],
   "source": [
    "# 获取企业详细数据\n",
    "url = 'http://scxk.nmpa.gov.cn:81/xk/itownet/portalAction.do?method=getXkzsById'\n",
    "\n",
    "#参数封装\n",
    "all_data_list = []\n",
    "for company_id in id_list:\n",
    "    data = {'id': company_id}\n",
    "    #发起请求\n",
    "    all_data_list.append(requests.post(url,data = data , headers = headers).json())\n",
    "print('----done---')"
   ]
  },
  {
   "cell_type": "code",
   "execution_count": 89,
   "metadata": {
    "ExecuteTime": {
     "end_time": "2020-09-10T01:43:40.296211Z",
     "start_time": "2020-09-10T01:43:40.271894Z"
    },
    "scrolled": false
   },
   "outputs": [
    {
     "data": {
      "text/html": [
       "<div>\n",
       "<style scoped>\n",
       "    .dataframe tbody tr th:only-of-type {\n",
       "        vertical-align: middle;\n",
       "    }\n",
       "\n",
       "    .dataframe tbody tr th {\n",
       "        vertical-align: top;\n",
       "    }\n",
       "\n",
       "    .dataframe thead th {\n",
       "        text-align: right;\n",
       "    }\n",
       "</style>\n",
       "<table border=\"1\" class=\"dataframe\">\n",
       "  <thead>\n",
       "    <tr style=\"text-align: right;\">\n",
       "      <th></th>\n",
       "      <th>businessLicenseNumber</th>\n",
       "      <th>businessPerson</th>\n",
       "      <th>certStr</th>\n",
       "      <th>cityCode</th>\n",
       "      <th>countyCode</th>\n",
       "      <th>creatUser</th>\n",
       "      <th>createTime</th>\n",
       "      <th>endTime</th>\n",
       "      <th>epsAddress</th>\n",
       "      <th>epsName</th>\n",
       "      <th>...</th>\n",
       "      <th>rcManagerDepartName</th>\n",
       "      <th>rcManagerUser</th>\n",
       "      <th>startTime</th>\n",
       "      <th>xkCompleteDate</th>\n",
       "      <th>xkDate</th>\n",
       "      <th>xkDateStr</th>\n",
       "      <th>xkName</th>\n",
       "      <th>xkProject</th>\n",
       "      <th>xkRemark</th>\n",
       "      <th>xkType</th>\n",
       "    </tr>\n",
       "  </thead>\n",
       "  <tbody>\n",
       "    <tr>\n",
       "      <th>0</th>\n",
       "      <td>91440101MA5CYUF0XX</td>\n",
       "      <td>陈飞</td>\n",
       "      <td>一般液态单元（护发清洁类、护肤水类、啫喱类）；膏霜乳液单元（护肤清洁类、护发类）</td>\n",
       "      <td></td>\n",
       "      <td></td>\n",
       "      <td></td>\n",
       "      <td></td>\n",
       "      <td></td>\n",
       "      <td>广州市白云区均禾街清湖大塘大道11号（自主申报）</td>\n",
       "      <td>广东天姿化妆品科技有限公司</td>\n",
       "      <td>...</td>\n",
       "      <td>白云区局均禾市场监管所</td>\n",
       "      <td>监管机构指定人员</td>\n",
       "      <td></td>\n",
       "      <td>None</td>\n",
       "      <td>2025-01-16</td>\n",
       "      <td>2021-05-17</td>\n",
       "      <td>严振</td>\n",
       "      <td></td>\n",
       "      <td>无</td>\n",
       "      <td>201</td>\n",
       "    </tr>\n",
       "    <tr>\n",
       "      <th>1</th>\n",
       "      <td>91350603MA2YM6P4X2</td>\n",
       "      <td>李周欣</td>\n",
       "      <td>一般液态单元（护发清洁类、护肤水类）；膏霜乳液单元（护发类、护肤清洁类）；粉单元（散粉类、浴...</td>\n",
       "      <td></td>\n",
       "      <td></td>\n",
       "      <td></td>\n",
       "      <td></td>\n",
       "      <td></td>\n",
       "      <td>漳州市蓝田经济开发区</td>\n",
       "      <td>青蛙王子（福建）婴童护理用品有限公司</td>\n",
       "      <td>...</td>\n",
       "      <td>漳州市龙文区市场监督管理局蓝田市场监管所</td>\n",
       "      <td>吴少舟、许志宏</td>\n",
       "      <td></td>\n",
       "      <td>None</td>\n",
       "      <td>2023-04-15</td>\n",
       "      <td>2020-09-08</td>\n",
       "      <td>郑纯</td>\n",
       "      <td></td>\n",
       "      <td></td>\n",
       "      <td>206</td>\n",
       "    </tr>\n",
       "    <tr>\n",
       "      <th>2</th>\n",
       "      <td>9135072459788424XQ</td>\n",
       "      <td>徐文胜</td>\n",
       "      <td>粉单元（块状粉类、散粉类）；蜡基单元（蜡基类）</td>\n",
       "      <td></td>\n",
       "      <td></td>\n",
       "      <td></td>\n",
       "      <td></td>\n",
       "      <td></td>\n",
       "      <td>松溪县经济技术开发区</td>\n",
       "      <td>福建金亿文化用品有限公司</td>\n",
       "      <td>...</td>\n",
       "      <td>南平市松溪县市场监督管理局</td>\n",
       "      <td>林银良；陈芬丽；陈淑青</td>\n",
       "      <td></td>\n",
       "      <td>None</td>\n",
       "      <td>2022-01-05</td>\n",
       "      <td>2020-09-08</td>\n",
       "      <td>郑纯</td>\n",
       "      <td></td>\n",
       "      <td></td>\n",
       "      <td>206</td>\n",
       "    </tr>\n",
       "  </tbody>\n",
       "</table>\n",
       "<p>3 rows × 34 columns</p>\n",
       "</div>"
      ],
      "text/plain": [
       "  businessLicenseNumber businessPerson  \\\n",
       "0    91440101MA5CYUF0XX             陈飞   \n",
       "1    91350603MA2YM6P4X2            李周欣   \n",
       "2    9135072459788424XQ            徐文胜   \n",
       "\n",
       "                                             certStr cityCode countyCode  \\\n",
       "0           一般液态单元（护发清洁类、护肤水类、啫喱类）；膏霜乳液单元（护肤清洁类、护发类）                       \n",
       "1  一般液态单元（护发清洁类、护肤水类）；膏霜乳液单元（护发类、护肤清洁类）；粉单元（散粉类、浴...                       \n",
       "2                            粉单元（块状粉类、散粉类）；蜡基单元（蜡基类）                       \n",
       "\n",
       "  creatUser createTime endTime                epsAddress             epsName  \\\n",
       "0                               广州市白云区均禾街清湖大塘大道11号（自主申报）       广东天姿化妆品科技有限公司   \n",
       "1                                             漳州市蓝田经济开发区  青蛙王子（福建）婴童护理用品有限公司   \n",
       "2                                             松溪县经济技术开发区        福建金亿文化用品有限公司   \n",
       "\n",
       "   ...   rcManagerDepartName rcManagerUser startTime xkCompleteDate  \\\n",
       "0  ...           白云区局均禾市场监管所      监管机构指定人员                     None   \n",
       "1  ...  漳州市龙文区市场监督管理局蓝田市场监管所       吴少舟、许志宏                     None   \n",
       "2  ...         南平市松溪县市场监督管理局   林银良；陈芬丽；陈淑青                     None   \n",
       "\n",
       "       xkDate   xkDateStr xkName xkProject xkRemark xkType  \n",
       "0  2025-01-16  2021-05-17     严振                  无    201  \n",
       "1  2023-04-15  2020-09-08     郑纯                       206  \n",
       "2  2022-01-05  2020-09-08     郑纯                       206  \n",
       "\n",
       "[3 rows x 34 columns]"
      ]
     },
     "execution_count": 89,
     "metadata": {},
     "output_type": "execute_result"
    }
   ],
   "source": [
    "page1 = pd.DataFrame(all_data_list)\n",
    "page1.head(3)"
   ]
  },
  {
   "cell_type": "markdown",
   "metadata": {},
   "source": [
    "---\n",
    "# 爬取多个页面数据"
   ]
  },
  {
   "cell_type": "code",
   "execution_count": 105,
   "metadata": {
    "ExecuteTime": {
     "end_time": "2020-09-10T01:47:20.811989Z",
     "start_time": "2020-09-10T01:47:17.456558Z"
    },
    "scrolled": false
   },
   "outputs": [
    {
     "name": "stdout",
     "output_type": "stream",
     "text": [
      "=====done====\n",
      "=====done====\n",
      "=====done====\n"
     ]
    }
   ],
   "source": [
    "# url\n",
    "url = 'http://scxk.nmpa.gov.cn:81/xk/itownet/portalAction.do?method=getXkzsList'\n",
    "\n",
    "# UA 伪装\n",
    "headers = {\n",
    "    'User-Agent':\n",
    "    'Mozilla/5.0 (Macintosh; Intel Mac OS X 10_15_6) AppleWebKit/605.1.15 (KHTML, like Gecko) Version/13.1.2 Safari/605.1.15'\n",
    "}\n",
    "\n",
    "# 参数封装\n",
    "id_list = []\n",
    "for page in range(1, 4):\n",
    "    page = str(page)\n",
    "    data = {\n",
    "        'on': 'true',\n",
    "        'page': page,\n",
    "        'pageSize': '15',\n",
    "        'productName': '',\n",
    "        'conditionType': '1',\n",
    "        'applyname': '',\n",
    "        'applysn': ''\n",
    "    }\n",
    "    for dic in requests.post(url=url, headers=headers, data=data).json()['list']:\n",
    "        id_list.append(dic['ID'])\n",
    "    print('=====done====')"
   ]
  },
  {
   "cell_type": "code",
   "execution_count": 108,
   "metadata": {
    "ExecuteTime": {
     "end_time": "2020-09-10T01:48:46.144252Z",
     "start_time": "2020-09-10T01:48:46.136933Z"
    }
   },
   "outputs": [
    {
     "name": "stdout",
     "output_type": "stream",
     "text": [
      "45\n"
     ]
    }
   ],
   "source": [
    "print(len(id_list))"
   ]
  },
  {
   "cell_type": "code",
   "execution_count": null,
   "metadata": {
    "ExecuteTime": {
     "start_time": "2020-09-10T01:48:48.817Z"
    }
   },
   "outputs": [],
   "source": [
    "# 获取企业详细数据\n",
    "url = 'http://scxk.nmpa.gov.cn:81/xk/itownet/portalAction.do?method=getXkzsById'\n",
    "\n",
    "#参数封装\n",
    "all_data_list = []\n",
    "for company_id in id_list:\n",
    "    data = {'id': company_id}\n",
    "    #发起请求\n",
    "    all_data_list.append(requests.post(url,data = data , headers = headers).json())\n",
    "print('----done---')"
   ]
  },
  {
   "cell_type": "code",
   "execution_count": null,
   "metadata": {
    "ExecuteTime": {
     "start_time": "2020-09-10T01:48:54.275Z"
    }
   },
   "outputs": [],
   "source": [
    "page3 = pd.DataFrame(all_data_list)\n",
    "page3"
   ]
  },
  {
   "cell_type": "code",
   "execution_count": null,
   "metadata": {},
   "outputs": [],
   "source": []
  }
 ],
 "metadata": {
  "kernelspec": {
   "display_name": "Python 3",
   "language": "python",
   "name": "python3"
  },
  "language_info": {
   "codemirror_mode": {
    "name": "ipython",
    "version": 3
   },
   "file_extension": ".py",
   "mimetype": "text/x-python",
   "name": "python",
   "nbconvert_exporter": "python",
   "pygments_lexer": "ipython3",
   "version": "3.7.6"
  },
  "toc": {
   "base_numbering": 1,
   "nav_menu": {},
   "number_sections": true,
   "sideBar": true,
   "skip_h1_title": false,
   "title_cell": "Table of Contents",
   "title_sidebar": "Contents",
   "toc_cell": false,
   "toc_position": {},
   "toc_section_display": true,
   "toc_window_display": true
  },
  "varInspector": {
   "cols": {
    "lenName": 16,
    "lenType": 16,
    "lenVar": 40
   },
   "kernels_config": {
    "python": {
     "delete_cmd_postfix": "",
     "delete_cmd_prefix": "del ",
     "library": "var_list.py",
     "varRefreshCmd": "print(var_dic_list())"
    },
    "r": {
     "delete_cmd_postfix": ") ",
     "delete_cmd_prefix": "rm(",
     "library": "var_list.r",
     "varRefreshCmd": "cat(var_dic_list()) "
    }
   },
   "types_to_exclude": [
    "module",
    "function",
    "builtin_function_or_method",
    "instance",
    "_Feature"
   ],
   "window_display": false
  }
 },
 "nbformat": 4,
 "nbformat_minor": 4
}

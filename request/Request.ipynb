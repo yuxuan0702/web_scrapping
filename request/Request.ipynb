{
 "cells": [
  {
   "cell_type": "code",
   "execution_count": 1,
   "metadata": {
    "ExecuteTime": {
     "end_time": "2020-09-04T18:37:16.392027Z",
     "start_time": "2020-09-04T18:37:15.897245Z"
    }
   },
   "outputs": [],
   "source": [
    "# import packages\n",
    "import requests"
   ]
  },
  {
   "cell_type": "markdown",
   "metadata": {},
   "source": [
    "---\n",
    "# Request 步骤和应用\n",
    "`目标`： 爬取google首页页面数据"
   ]
  },
  {
   "cell_type": "code",
   "execution_count": 2,
   "metadata": {
    "ExecuteTime": {
     "end_time": "2020-09-04T18:37:16.550330Z",
     "start_time": "2020-09-04T18:37:16.395166Z"
    },
    "scrolled": false
   },
   "outputs": [
    {
     "name": "stdout",
     "output_type": "stream",
     "text": [
      "finished\n"
     ]
    }
   ],
   "source": [
    "# 指定url\n",
    "url = 'https://www.google.com/'\n",
    "\n",
    "# 发出响应请求 (get)\n",
    "# get方法返回一个响应对象\n",
    "responds = requests.get(url)\n",
    "\n",
    "#获取响应数据,text返回字符串形式的响应数据\n",
    "page_text = responds.text\n",
    "\n",
    "# 持久化存储\n",
    "with open('./google.html', 'w', encoding='utf-8') as fp:\n",
    "    fp.write(page_text)\n",
    "\n",
    "print('finished')"
   ]
  },
  {
   "cell_type": "markdown",
   "metadata": {},
   "source": [
    "---\n",
    "# Case 1: 爬取google指定词条对应的搜索结果页面（简易网页采集器）"
   ]
  },
  {
   "cell_type": "markdown",
   "metadata": {},
   "source": [
    "`UA检测`：门户网站的服务器会检测对应请求的载体身份标识，如果监测到请求的载体的身份标识为某一类浏览器，这说明该请求是一个正常的请求。但是如果监测到请求的载体的身份标识不是某一类浏览器，视为不正常请求，服务器端就很有可能拒绝该次请求。\n",
    "\n",
    "`UA伪装`：爬虫对应请求载体身份标识伪装成某一款浏览器\n",
    "\n"
   ]
  },
  {
   "cell_type": "code",
   "execution_count": null,
   "metadata": {
    "ExecuteTime": {
     "start_time": "2020-09-04T18:37:15.830Z"
    }
   },
   "outputs": [],
   "source": [
    "# 处理url携带参数封装到字典中\n",
    "kw = input('keyword')\n",
    "param = {'query': kw}\n",
    "\n",
    "# 指定url\n",
    "url = 'https://www.google.com/search'\n",
    "\n",
    "# UA 伪装\n",
    "# 将对应 user-agent 封装到一个字典中\n",
    "headers = {\n",
    "    'User-Agenet':\n",
    "    'Mozilla/5.0 (Macintosh; Intel Mac OS X 10_15_6) AppleWebKit/605.1.15 (KHTML, like Gecko) Version/13.1.2 Safari/605.1.15'\n",
    "}\n",
    "\n",
    "# 发起get请求\n",
    "responds = requests.get(url=url, params=param, headers=headers)\n",
    "page_text = responds.text\n",
    "\n",
    "# 持久化存储\n",
    "filename = kw + '.html'\n",
    "with open(filename, 'w', encoding='utf-8') as fp:\n",
    "    fp.write(page_text)\n",
    "\n",
    "print(filename, 'finished')"
   ]
  },
  {
   "cell_type": "markdown",
   "metadata": {},
   "source": [
    "# Case 2: Translate "
   ]
  },
  {
   "cell_type": "markdown",
   "metadata": {},
   "source": [
    "爬取某一张网页的局部刷新数据\n",
    "\n",
    "`Ajax请求`: 局部数据刷新\n"
   ]
  },
  {
   "cell_type": "code",
   "execution_count": null,
   "metadata": {
    "ExecuteTime": {
     "start_time": "2020-09-04T18:37:15.831Z"
    }
   },
   "outputs": [],
   "source": [
    "# 网址\n",
    "url = 'https://translate.google.com/translate_a/single?client=webapp&sl=auto&tl=zh-CN&hl=en&dt=at&dt=bd&dt=ex&dt=ld&dt=md&dt=qca&dt=rw&dt=rm&dt=sos&dt=ss&dt=t&source=bh&ssel=0&tsel=0&xid=45662847&kc=1&tk=381944.201906&q=dog'\n",
    "\n",
    "# UA 伪装\n",
    "# 将对应 user-agent 封装到一个字典中\n",
    "headers = {\n",
    "    'User-Agenet':\n",
    "    'Mozilla/5.0 (Macintosh; Intel Mac OS X 10_15_6) AppleWebKit/605.1.15 (KHTML, like Gecko) Version/13.1.2 Safari/605.1.15'\n",
    "}\n",
    "\n",
    "# 发送请求\n",
    "response = requests.get(url=url, params=param, headers=headers)\n",
    "dic_obj = response.json()\n",
    "\n",
    "# 存储\n",
    "fp = open('./dog.json', 'w', encoding='utf-8')\n",
    "json.dump(dic_obj, fp=fp, ensure_ascii=False)\n",
    "print('done!')"
   ]
  },
  {
   "cell_type": "markdown",
   "metadata": {},
   "source": [
    "---\n",
    "# Case 3: 爬取豆瓣数据"
   ]
  },
  {
   "cell_type": "code",
   "execution_count": null,
   "metadata": {
    "ExecuteTime": {
     "start_time": "2020-09-04T18:37:15.833Z"
    }
   },
   "outputs": [],
   "source": [
    "import requests\n",
    "import json\n",
    "\n",
    "#url\n",
    "url = 'https://movie.douban.com/j/chart/top_list?'\n",
    "\n",
    "#参数\n",
    "param = {\n",
    "    'type': 24,\n",
    "    'interval_id': '100:90',\n",
    "    'action': '',\n",
    "    'start': 0, # 从数据库中第几部电影取\n",
    "    'limit': 100 # 一次请求取出的个数\n",
    "}\n",
    "\n",
    "#发出请求\n",
    "header = {'User-Agent':'Mozilla/5.0 (Macintosh; Intel Mac OS X 10_15_6) AppleWebKit/605.1.15 (KHTML, like Gecko) Version/13.1.2 Safari/605.1.15'}\n",
    "\n",
    "#\n",
    "response = requests.get(url = url, params = param, headers = header)\n",
    "\n",
    "list_data = response.json()\n",
    "\n",
    "fp = open('./douban.json','w',encoding= 'utf-8')\n",
    "json.dump(list_data,fp = fp,ensure_ascii= False)\n",
    "print('done!')"
   ]
  },
  {
   "cell_type": "code",
   "execution_count": null,
   "metadata": {},
   "outputs": [],
   "source": []
  }
 ],
 "metadata": {
  "kernelspec": {
   "display_name": "Python 3",
   "language": "python",
   "name": "python3"
  },
  "language_info": {
   "codemirror_mode": {
    "name": "ipython",
    "version": 3
   },
   "file_extension": ".py",
   "mimetype": "text/x-python",
   "name": "python",
   "nbconvert_exporter": "python",
   "pygments_lexer": "ipython3",
   "version": "3.7.6"
  },
  "toc": {
   "base_numbering": 1,
   "nav_menu": {},
   "number_sections": true,
   "sideBar": true,
   "skip_h1_title": false,
   "title_cell": "Table of Contents",
   "title_sidebar": "Contents",
   "toc_cell": false,
   "toc_position": {},
   "toc_section_display": true,
   "toc_window_display": true
  },
  "varInspector": {
   "cols": {
    "lenName": 16,
    "lenType": 16,
    "lenVar": 40
   },
   "kernels_config": {
    "python": {
     "delete_cmd_postfix": "",
     "delete_cmd_prefix": "del ",
     "library": "var_list.py",
     "varRefreshCmd": "print(var_dic_list())"
    },
    "r": {
     "delete_cmd_postfix": ") ",
     "delete_cmd_prefix": "rm(",
     "library": "var_list.r",
     "varRefreshCmd": "cat(var_dic_list()) "
    }
   },
   "types_to_exclude": [
    "module",
    "function",
    "builtin_function_or_method",
    "instance",
    "_Feature"
   ],
   "window_display": false
  }
 },
 "nbformat": 4,
 "nbformat_minor": 4
}
